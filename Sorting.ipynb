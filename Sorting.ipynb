{
  "nbformat": 4,
  "nbformat_minor": 0,
  "metadata": {
    "colab": {
      "provenance": []
    },
    "kernelspec": {
      "name": "python3",
      "display_name": "Python 3"
    },
    "language_info": {
      "name": "python"
    }
  },
  "cells": [
    {
      "cell_type": "code",
      "execution_count": 15,
      "metadata": {
        "id": "G1fcxMy0khx7"
      },
      "outputs": [],
      "source": [
        "from abc import ABC, abstractmethod\n",
        "\n",
        "\"\"\"Module with the base implementation of a Sort class.\"\"\"\n",
        "\n",
        "class Sort(ABC):\n",
        "    \"\"\"Abstract base class for sorting.\"\"\"\n",
        "\n",
        "    def __init__(self, items):\n",
        "        self._items = items\n",
        "\n",
        "    @abstractmethod\n",
        "    def _sort(self):\n",
        "        \"\"\"Returns the sorted version of the elements contained\n",
        "        in the `_items` property.\n",
        "        Returns:\n",
        "            List: The sorted elements.\n",
        "        \"\"\"\n",
        "        pass\n",
        "\n",
        "    def get_items(self):\n",
        "        return self._items\n",
        "\n",
        "    def _time(self):\n",
        "        self.time = 0\n",
        "        return self.time"
      ]
    },
    {
      "cell_type": "code",
      "source": [
        "\"\"\"Module with the implementation of the BubbleSort algorithm.\"\"\"\n",
        "from time import time\n",
        "\n",
        "class BubbleSort(Sort):\n",
        "    \"\"\"Class that represents a BubbleSort implementation.\"\"\"\n",
        "    def __init__(self,items):\n",
        "        super().__init__(items)\n",
        "\n",
        "    def _sort(self):\n",
        "        # your code here\n",
        "        for i in range(len(self._items)-1):\n",
        "            for j in range(len(self._items)-i-1):\n",
        "                if self._items[j+1]<self._items[j]:\n",
        "                    self._items[j],self._items[j+1]=self._items[j+1],self._items[j]\n",
        "        return self._items\n",
        "\n",
        "    def _time(self):\n",
        "        # your code here\n",
        "        start=time()\n",
        "        self._sort()\n",
        "        end=time()\n",
        "        self.time=end-start\n",
        "        return self.time"
      ],
      "metadata": {
        "id": "lVuxfKfKkoxZ"
      },
      "execution_count": 16,
      "outputs": []
    },
    {
      "cell_type": "code",
      "source": [
        "class MergeSort(Sort):\n",
        "    def _init_(self, items):\n",
        "        super()._init_(items)\n",
        "class MergeSort(Sort):\n",
        "    \"\"\"Class that represents a MergeSort implementation.\"\"\"\n",
        "    def _sort(self):\n",
        "        \"\"\"Sorts the items using the Merge Sort algorithm.\"\"\"\n",
        "        if len(self._items) <= 1:\n",
        "            return self._items\n",
        "        # Split the list in half\n",
        "        mid = len(self._items) // 2\n",
        "        left_half = self._items[:mid]\n",
        "        right_half = self._items[mid:]\n",
        "        # Recursively sort both halves\n",
        "        left_half = MergeSort(left_half)._sort()\n",
        "        right_half = MergeSort(right_half)._sort()\n",
        "        # Merge the sorted halves\n",
        "        sorted_items = self._merge(left_half, right_half)\n",
        "        return sorted_items\n",
        "    def _merge(self, left, right):\n",
        "        \"\"\"Merges two sorted lists into one sorted list.\"\"\"\n",
        "        merged = []\n",
        "        left_index, right_index = 0, 0\n",
        "        while left_index < len(left) and right_index < len(right):\n",
        "            if left[left_index] < right[right_index]:\n",
        "                merged.append(left[left_index])\n",
        "                left_index += 1\n",
        "            else:\n",
        "                merged.append(right[right_index])\n",
        "                right_index += 1\n",
        "        # Append the remaining elements from both lists (if any)\n",
        "        merged.extend(left[left_index:])\n",
        "        merged.extend(right[right_index:])\n",
        "        return merged\n",
        "    def _time(self):\n",
        "        \"\"\"Measure the time required to sort the items.\"\"\"\n",
        "        import time\n",
        "        start_time = time.time()\n",
        "        # Call the sorting method\n",
        "        self._sort()\n",
        "        end_time = time.time()\n",
        "        self.time = end_time - start_time\n",
        "        return self.time"
      ],
      "metadata": {
        "id": "21ZHM4gDkraK"
      },
      "execution_count": 17,
      "outputs": []
    },
    {
      "cell_type": "code",
      "source": [
        "import numpy as np\n",
        "import matplotlib.pyplot as plt\n",
        "import random"
      ],
      "metadata": {
        "id": "JXesNrQNktZW"
      },
      "execution_count": 29,
      "outputs": []
    },
    {
      "cell_type": "code",
      "source": [
        "test_cases=[]\n",
        "for i in range(1,151):\n",
        "    test_cases.append(np.random.choice(range(1,1000),i))"
      ],
      "metadata": {
        "id": "BeFnEU61ku7n"
      },
      "execution_count": 46,
      "outputs": []
    },
    {
      "cell_type": "code",
      "source": [
        "test_cases[0]"
      ],
      "metadata": {
        "colab": {
          "base_uri": "https://localhost:8080/"
        },
        "id": "WlvJOFD3llET",
        "outputId": "bc57b904-87fc-415f-9e8b-1dbaee5c8446"
      },
      "execution_count": 47,
      "outputs": [
        {
          "output_type": "execute_result",
          "data": {
            "text/plain": [
              "array([176])"
            ]
          },
          "metadata": {},
          "execution_count": 47
        }
      ]
    },
    {
      "cell_type": "code",
      "source": [
        "bubble_sort_time=[]\n",
        "for i in test_cases:\n",
        "    bubble_sort_time.append(BubbleSort(i)._time())"
      ],
      "metadata": {
        "id": "XfTN57xlkv-x"
      },
      "execution_count": 48,
      "outputs": []
    },
    {
      "cell_type": "code",
      "source": [
        "merge_sort_time=[]\n",
        "for i in test_cases:\n",
        "  merge_sort_time.append(MergeSort(i)._time())"
      ],
      "metadata": {
        "id": "aagSVx_0lNpQ"
      },
      "execution_count": 49,
      "outputs": []
    },
    {
      "cell_type": "code",
      "source": [
        "plt.plot(range(len(test_cases)),bubble_sort_time,label='Bubble Sort')\n",
        "plt.plot(range(len(test_cases)),merge_sort_time,label='Merge Sort')\n",
        "plt.xlabel('List of Varying size from 1 to 150')\n",
        "plt.legend()"
      ],
      "metadata": {
        "colab": {
          "base_uri": "https://localhost:8080/",
          "height": 466
        },
        "id": "qDsp6-bIkx_R",
        "outputId": "1b32b81a-fc06-44fd-ef05-196e395d1961"
      },
      "execution_count": 50,
      "outputs": [
        {
          "output_type": "execute_result",
          "data": {
            "text/plain": [
              "<matplotlib.legend.Legend at 0x7cbcfe737c40>"
            ]
          },
          "metadata": {},
          "execution_count": 50
        },
        {
          "output_type": "display_data",
          "data": {
            "text/plain": [
              "<Figure size 640x480 with 1 Axes>"
            ],
            "image/png": "[encoded data removed]"
          },
          "metadata": {}
        }
      ]
    },
    {
      "cell_type": "code",
      "source": [],
      "metadata": {
        "id": "kTjM09tAk_zs"
      },
      "execution_count": 50,
      "outputs": []
    }
  ]
}